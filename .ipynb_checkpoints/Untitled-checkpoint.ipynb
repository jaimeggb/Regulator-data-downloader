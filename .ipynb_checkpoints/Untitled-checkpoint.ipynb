{
 "cells": [
  {
   "cell_type": "markdown",
   "id": "51e7bf2b-6ed0-499d-a103-69ce242a5966",
   "metadata": {},
   "source": [
    "# CNMCData downloader\n",
    "###### This is the site: http://data.cnmc.es/datagraph/jsp/inf_anual.jsp\n",
    "###### Objective: automatically download all latest data at the click of a button into a folder in your computer (to avoid having to open each site and downloading each csv file and renaming each, everytime you start a new spanish telecoms market project)\n",
    "\n",
    "1. Download each wepsite csv file\n",
    "2. Rename it\n",
    "3. Save it in a folder on your computer"
   ]
  },
  {
   "cell_type": "code",
   "execution_count": 1,
   "id": "e95fb631-f3e0-4fc3-ae73-c9eed6692acf",
   "metadata": {},
   "outputs": [],
   "source": [
    "# Datos generales del sector - Ingresos - Totales"
   ]
  },
  {
   "cell_type": "code",
   "execution_count": 4,
   "id": "9a327a96-ab8f-4553-a910-0f0241913d43",
   "metadata": {},
   "outputs": [
    {
     "name": "stdout",
     "output_type": "stream",
     "text": [
      "                                           Unnamed: 0 Unnamed: 1 Unnamed: 2  \\\n",
      "0     1. DATOS GENERALES DEL SECTOR   -   a) Ingresos        NaN        NaN   \n",
      "1   1. Ingresos totales del sector y tasa de varia...        NaN        NaN   \n",
      "2                    (millones de euros y porcentaje)        NaN        NaN   \n",
      "3                                                 NaN     I/2005    II/2005   \n",
      "4                                Servicios minoristas    7610.59    8158.94   \n",
      "5                                                 NaN         --       0.0%   \n",
      "6                                Servicios mayoristas    1716.53    1909.06   \n",
      "7                                                 NaN         --       0.0%   \n",
      "8                                                 NaN        NaN        NaN   \n",
      "9   Los ingresos mayoristas incluyen la venta a te...        NaN        NaN   \n",
      "10                                                NaN        NaN        NaN   \n",
      "11                    Última actualización 01/10/2021        NaN        NaN   \n",
      "12                     Extracción de datos 25/10/2021        NaN        NaN   \n",
      "13  Comisión Nacional de los Mercados y la Compete...        NaN        NaN   \n",
      "14  La difusión de información que se realiza por ...        NaN        NaN   \n",
      "\n",
      "   Unnamed: 3 Unnamed: 4 Unnamed: 5 Unnamed: 6 Unnamed: 7 Unnamed: 8  \\\n",
      "0         NaN        NaN        NaN        NaN        NaN        NaN   \n",
      "1         NaN        NaN        NaN        NaN        NaN        NaN   \n",
      "2         NaN        NaN        NaN        NaN        NaN        NaN   \n",
      "3    III/2005    IV/2005     I/2006    II/2006   III/2006    IV/2006   \n",
      "4     7765.94       0.00    8041.86    8435.88    8207.20    8784.47   \n",
      "5        0.0%       0.0%       5.7%       3.4%       5.7%       0.0%   \n",
      "6     2087.66       0.00    1717.79    1831.92    1861.59    1734.60   \n",
      "7        0.0%       0.0%       0.1%      -4.0%     -10.8%       0.0%   \n",
      "8         NaN        NaN        NaN        NaN        NaN        NaN   \n",
      "9         NaN        NaN        NaN        NaN        NaN        NaN   \n",
      "10        NaN        NaN        NaN        NaN        NaN        NaN   \n",
      "11        NaN        NaN        NaN        NaN        NaN        NaN   \n",
      "12        NaN        NaN        NaN        NaN        NaN        NaN   \n",
      "13        NaN        NaN        NaN        NaN        NaN        NaN   \n",
      "14        NaN        NaN        NaN        NaN        NaN        NaN   \n",
      "\n",
      "   Unnamed: 9  ... Unnamed: 57 Unnamed: 58 Unnamed: 59 Unnamed: 60  \\\n",
      "0         NaN  ...         NaN         NaN         NaN         NaN   \n",
      "1         NaN  ...         NaN         NaN         NaN         NaN   \n",
      "2         NaN  ...         NaN         NaN         NaN         NaN   \n",
      "3      I/2007  ...      I/2019     II/2019    III/2019     IV/2019   \n",
      "4     8649.49  ...     6158.52     6210.32     6004.14     6382.38   \n",
      "5        7.6%  ...        0.5%       -1.9%       -1.1%       -0.4%   \n",
      "6     1775.51  ...     2260.38     2357.76     2270.28     2363.90   \n",
      "7        3.4%  ...        3.5%        4.9%       -2.2%        2.6%   \n",
      "8         NaN  ...         NaN         NaN         NaN         NaN   \n",
      "9         NaN  ...         NaN         NaN         NaN         NaN   \n",
      "10        NaN  ...         NaN         NaN         NaN         NaN   \n",
      "11        NaN  ...         NaN         NaN         NaN         NaN   \n",
      "12        NaN  ...         NaN         NaN         NaN         NaN   \n",
      "13        NaN  ...         NaN         NaN         NaN         NaN   \n",
      "14        NaN  ...         NaN         NaN         NaN         NaN   \n",
      "\n",
      "   Unnamed: 61 Unnamed: 62 Unnamed: 63 Unnamed: 64 Unnamed: 65 Unnamed: 66  \n",
      "0          NaN         NaN         NaN         NaN         NaN         NaN  \n",
      "1          NaN         NaN         NaN         NaN         NaN         NaN  \n",
      "2          NaN         NaN         NaN         NaN         NaN         NaN  \n",
      "3       I/2020     II/2020    III/2020     IV/2020      I/2021         NaN  \n",
      "4      5881.76     5509.96     5752.70     6031.56     5668.45         NaN  \n",
      "5        -4.5%      -11.3%       -4.2%       -5.5%       -3.6%         NaN  \n",
      "6      2353.10     2281.96     2252.15     2444.88     2303.86         NaN  \n",
      "7         4.1%       -3.2%       -0.8%        3.4%       -2.1%         NaN  \n",
      "8          NaN         NaN         NaN         NaN         NaN         NaN  \n",
      "9          NaN         NaN         NaN         NaN         NaN         NaN  \n",
      "10         NaN         NaN         NaN         NaN         NaN         NaN  \n",
      "11         NaN         NaN         NaN         NaN         NaN         NaN  \n",
      "12         NaN         NaN         NaN         NaN         NaN         NaN  \n",
      "13         NaN         NaN         NaN         NaN         NaN         NaN  \n",
      "14         NaN         NaN         NaN         NaN         NaN         NaN  \n",
      "\n",
      "[15 rows x 67 columns]\n"
     ]
    }
   ],
   "source": [
    "import requests\n",
    "import pandas as pd\n",
    "import io\n",
    "\n",
    "headers = {\n",
    "    'Connection': 'keep-alive',\n",
    "    'Cache-Control': 'max-age=0',\n",
    "    'Upgrade-Insecure-Requests': '1',\n",
    "    'Origin': 'http://data.cnmc.es',\n",
    "    'Content-Type': 'application/x-www-form-urlencoded',\n",
    "    'User-Agent': 'Mozilla/5.0 (Windows NT 10.0; Win64; x64) AppleWebKit/537.36 (KHTML, like Gecko) Chrome/94.0.4606.81 Safari/537.36',\n",
    "    'Accept': 'text/html,application/xhtml+xml,application/xml;q=0.9,image/avif,image/webp,image/apng,*/*;q=0.8,application/signed-exchange;v=b3;q=0.9',\n",
    "    'Referer': 'http://data.cnmc.es/datagraph/jsp/informe_1_1.jsp?aqsdqsiid=29200&tipoinforme=1&periodicidad=2',\n",
    "    'Accept-Language': 'en-GB-oxendict,en;q=0.9,es-ES;q=0.8,es;q=0.7',\n",
    "}\n",
    "\n",
    "data = {\n",
    "  'aqsdqsiid': '29200',\n",
    "  'solution': 'datagraph',\n",
    "  'path': 'Informes',\n",
    "  'autoSubmit': 'true',\n",
    "  'showParameters': 'false',\n",
    "  'paginate': 'false',\n",
    "  'output-target': 'table/csv;page-mode=stream',\n",
    "  'name': 'crosstab_tipo_01_tri.prpt'\n",
    "}\n",
    "\n",
    "response = requests.post('http://data.cnmc.es/pentaho/content/reporting', headers=headers, data=data, verify=False)\n",
    "\n",
    "df = pd.read_csv(io.StringIO(response.content.decode('utf-8')))\n",
    "print(df)"
   ]
  },
  {
   "cell_type": "code",
   "execution_count": 6,
   "id": "98552d31-0226-4747-aa82-461761231ac3",
   "metadata": {},
   "outputs": [],
   "source": [
    "import os\n",
    "path=r'C:\\Users\\Jaime GG-B\\Documents\\Learning to code\\CNMCData scraper\\CNMCData files dwd aut'\n",
    "\n",
    "df.to_csv(os.path.join(path,r'\\Datos_generales_del_sector_Ingresos_Totales.csv'))"
   ]
  },
  {
   "cell_type": "code",
   "execution_count": null,
   "id": "81a41a6a-061e-468b-a93b-836a37e8d132",
   "metadata": {},
   "outputs": [],
   "source": []
  }
 ],
 "metadata": {
  "kernelspec": {
   "display_name": "Python 3",
   "language": "python",
   "name": "python3"
  },
  "language_info": {
   "codemirror_mode": {
    "name": "ipython",
    "version": 3
   },
   "file_extension": ".py",
   "mimetype": "text/x-python",
   "name": "python",
   "nbconvert_exporter": "python",
   "pygments_lexer": "ipython3",
   "version": "3.8.8"
  }
 },
 "nbformat": 4,
 "nbformat_minor": 5
}
