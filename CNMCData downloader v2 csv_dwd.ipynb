{
 "cells": [
  {
   "cell_type": "markdown",
   "id": "51e7bf2b-6ed0-499d-a103-69ce242a5966",
   "metadata": {},
   "source": [
    "# CNMCData downloader\n",
    "###### This is the site: http://data.cnmc.es/datagraph/jsp/inf_anual.jsp\n",
    "###### Objective: automatically download all latest data at the click of a button into a folder in your computer (to avoid having to open each site and downloading each csv file and renaming each, everytime you start a new spanish telecoms market project)"
   ]
  },
  {
   "cell_type": "code",
   "execution_count": 15,
   "metadata": {},
   "outputs": [],
   "source": [
    "# This block creates a new folder with time and date so you know when last download was\n",
    "\n",
    "from datetime import datetime\n",
    "import os\n",
    "\n",
    "today = datetime.now()\n",
    "folder_path = \"C:\\\\Users\\\\Jaime GG-B\\\\Documents\\\\Learning to code\\CNMCData scraper\\\\CNMCData files dwd aut\\\\\"\n",
    "time_folder_str = today.strftime('%Y_%m_%d___%H_%M')\n",
    "full_path = folder_path + time_folder_str \n",
    "os.mkdir(full_path)"
   ]
  },
  {
   "cell_type": "code",
   "execution_count": 16,
   "metadata": {},
   "outputs": [],
   "source": [
    "# This block downloads all the CSV data files from the CNMCData webpage automatically\n",
    "\n",
    "variables_list = [\n",
    "    ['http://data.cnmc.es/datagraph/jsp/informe_1_1.jsp?aqsdqsiid=29200&tipoinforme=1&periodicidad=2', '29200', 'crosstab_tipo_01_tri.prpt', 'Datos_generales_del_sector_-_Ingresos_-_Totales.csv'],\n",
    "    ['http://data.cnmc.es/datagraph/jsp/informe_2_1.jsp?aqsdqsiid=29202&tipoinforme=12&periodicidad=2', '29202','crosstab_tipo_12_tri.prpt', 'Datos_generales_del_sector_-_Ingresos_-_Minoristas.csv'],\n",
    "    ['http://data.cnmc.es/datagraph/jsp/informe_2_1.jsp?aqsdqsiid=29203&tipoinforme=12&periodicidad=2', '29203','crosstab_tipo_12_tri.prpt', 'Datos_generales_del_sector_-_Ingresos_-_Mayoristas.csv'],\n",
    "    ['http://data.cnmc.es/datagraph/jsp/informe_1_1.jsp?aqsdqsiid=29201&tipoinforme=6&periodicidad=2', '29201','crosstab_tipo_06.prpt', 'Datos_generales_del_sector_-_Ingresos_-_Minoristas_por_operador.csv'],\n",
    "    ['http://data.cnmc.es/datagraph/jsp/informe_1_1.jsp?aqsdqsiid=29199&tipoinforme=6&periodicidad=2', '29199','crosstab_tipo_06.prpt', 'Datos_generales_del_sector_-_Ingresos_-_Mayoristas_por_operador.csv'],\n",
    "    ['http://data.cnmc.es/datagraph/jsp/informe_1_1.jsp?aqsdqsiid=29198&tipoinforme=6&periodicidad=2', '29198','crosstab_tipo_06.prpt', 'Datos_generales_del_sector_-_Ingresos_-_Totales_por_operador.csv'],\n",
    "    ['http://data.cnmc.es/datagraph/jsp/informe_1_1.jsp?aqsdqsiid=29205&tipoinforme=6&periodicidad=2','29205','crosstab_tipo_06.prpt', 'Datos_generales_del_sector_-_Empleo_-_Por_operador.csv'],\n",
    "    ['http://data.cnmc.es/datagraph/jsp/informe_1_1.jsp?aqsdqsiid=29194&tipoinforme=6&periodicidad=2','29194','crosstab_tipo_06.prpt','Infraestructuras_-_Accesos_NGA_instalados.csv'],\n",
    "    ['http://data.cnmc.es/datagraph/jsp/informe_1_2.jsp?aqsdqsiid=29195&tipoinforme=2&periodicidad=2','29195','crosstab_tipo_02.prpt','Infraestructuras_-_NGA_instalados_por_operador.csv'],\n",
    "    ['http://data.cnmc.es/datagraph/jsp/informe_1_1.jsp?aqsdqsiid=29196&tipoinforme=6&periodicidad=2','29196','crosstab_tipo_06.prpt','Infraestructuras_-_Accesos_NGA_en_servicio.csv'],\n",
    "    ['http://data.cnmc.es/datagraph/jsp/informe_1_1.jsp?aqsdqsiid=29263&tipoinforme=6&periodicidad=2','29263','crosstab_tipo_06.prpt','Comunicaciones_fijas_-_Telefonia_fija_minorista_-_Ingresos_-_Totales_por_concepto.csv'],\n",
    "    ['http://data.cnmc.es/datagraph/jsp/informe_1_2.jsp?aqsdqsiid=29264&tipoinforme=2&periodicidad=2','29264','crosstab_tipo_02.prpt','Comunicaciones_fijas_-_Telefonia_fija_minorista_-_Ingresos_-_Totales_por_segmento.csv'],\n",
    "    ['http://data.cnmc.es/datagraph/jsp/informe_1_1.jsp?aqsdqsiid=29262&tipoinforme=6&periodicidad=2','29262','crosstab_tipo_06.prpt','Comunicaciones_fijas_-_Telefonia_fija_minorista_-_Ingresos_-_De_trafico.csv'],\n",
    "    ['http://data.cnmc.es/datagraph/jsp/informe_1_2.jsp?aqsdqsiid=29261&tipoinforme=2&periodicidad=2','29261','crosstab_tipo_02.prpt','Comunicaciones_fijas_-_Telefonia_fija_minorista_-_Ingresos_-_Por_segmento.csv'],\n",
    "    ['http://data.cnmc.es/datagraph/jsp/informe_1_1.jsp?aqsdqsiid=29268&tipoinforme=6&periodicidad=2','29268','crosstab_tipo_06.prpt','Comunicaciones_fijas_-_Telefonia_fija_minorista_-_Lineas_y_clientes_-_Lineas_por_segmento.csv'],\n",
    "    ['http://data.cnmc.es/datagraph/jsp/informe_1_1.jsp?aqsdqsiid=29266&tipoinforme=6&periodicidad=2','29266','crosstab_tipo_06.prpt','Comunicaciones_fijas_-_Telefonia_fija_minorista_-_Lineas_y_clientes_-_Penetracion.csv'],\n",
    "    ['http://data.cnmc.es/datagraph/jsp/informe_1_1.jsp?aqsdqsiid=29267&tipoinforme=6&periodicidad=2','29267','crosstab_tipo_06.prpt','Comunicaciones_fijas_-_Telefonia_fija_minorista_-_Lineas_y_clientes_-_Clientes_por_tipo.csv'],\n",
    "    ['http://data.cnmc.es/datagraph/jsp/informe_1_1.jsp?aqsdqsiid=29269&tipoinforme=6&periodicidad=2','29269','crosstab_tipo_06.prpt','Comunicaciones_fijas_-_Telefonia_fija_minorista_-_Lineas_y_clientes_-_Portabilidades.csv'],\n",
    "]\n",
    "\n",
    "for item in variables_list:\n",
    "\n",
    "    import requests\n",
    "    import pandas as pd\n",
    "    import io\n",
    "\n",
    "    headers = {\n",
    "        'Connection': 'keep-alive',\n",
    "        'Cache-Control': 'max-age=0',\n",
    "        'Upgrade-Insecure-Requests': '1',\n",
    "        'Origin': 'http://data.cnmc.es',\n",
    "        'Content-Type': 'application/x-www-form-urlencoded',\n",
    "        'User-Agent': 'Mozilla/5.0 (Windows NT 10.0; Win64; x64) AppleWebKit/537.36 (KHTML, like Gecko) Chrome/94.0.4606.81 Safari/537.36',\n",
    "        'Accept': 'text/html,application/xhtml+xml,application/xml;q=0.9,image/avif,image/webp,image/apng,*/*;q=0.8,application/signed-exchange;v=b3;q=0.9',\n",
    "        'Referer': item[0],\n",
    "        'Accept-Language': 'en-GB-oxendict,en;q=0.9,es-ES;q=0.8,es;q=0.7',\n",
    "    }\n",
    "\n",
    "    data = {\n",
    "      'aqsdqsiid': item[1],\n",
    "      'solution': 'datagraph',\n",
    "      'path': 'Informes',\n",
    "      'autoSubmit': 'true',\n",
    "      'showParameters': 'false',\n",
    "      'paginate': 'false',\n",
    "      'output-target': 'table/csv;page-mode=stream',\n",
    "      'name': item[2]\n",
    "    }\n",
    "\n",
    "    response = requests.post('http://data.cnmc.es/pentaho/content/reporting', headers=headers, data=data, verify=False)\n",
    "    df = pd.read_csv(io.StringIO(response.content.decode('utf-8')))\n",
    "\n",
    "    import os\n",
    "    filename = item[3]\n",
    "    df.to_csv(os.path.join(full_path,filename), index=False)"
   ]
  },
  {
   "cell_type": "code",
   "execution_count": 13,
   "metadata": {},
   "outputs": [],
   "source": []
  },
  {
   "cell_type": "code",
   "execution_count": null,
   "metadata": {},
   "outputs": [],
   "source": []
  }
 ],
 "metadata": {
  "interpreter": {
   "hash": "b3ba2566441a7c06988d0923437866b63cedc61552a5af99d1f4fb67d367b25f"
  },
  "kernelspec": {
   "display_name": "Python 3.8.8 64-bit ('base': conda)",
   "name": "python3"
  },
  "language_info": {
   "codemirror_mode": {
    "name": "ipython",
    "version": 3
   },
   "file_extension": ".py",
   "mimetype": "text/x-python",
   "name": "python",
   "nbconvert_exporter": "python",
   "pygments_lexer": "ipython3",
   "version": "3.8.8"
  }
 },
 "nbformat": 4,
 "nbformat_minor": 5
}
